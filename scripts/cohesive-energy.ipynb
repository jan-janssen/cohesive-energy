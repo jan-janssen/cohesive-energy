{
 "cells": [
  {
   "cell_type": "code",
   "execution_count": null,
   "metadata": {
    "ExecuteTime": {
     "end_time": "2019-10-10T16:02:31.248210Z",
     "start_time": "2019-10-10T16:02:30.781354Z"
    }
   },
   "outputs": [],
   "source": [
    "import pandas"
   ]
  },
  {
   "cell_type": "code",
   "execution_count": null,
   "metadata": {
    "ExecuteTime": {
     "end_time": "2019-10-10T16:02:31.252191Z",
     "start_time": "2019-10-10T16:02:31.249866Z"
    }
   },
   "outputs": [],
   "source": [
    "import numpy as np"
   ]
  },
  {
   "cell_type": "code",
   "execution_count": null,
   "metadata": {
    "ExecuteTime": {
     "end_time": "2019-10-10T16:02:33.229180Z",
     "start_time": "2019-10-10T16:02:31.253916Z"
    }
   },
   "outputs": [],
   "source": [
    "from pyiron import Project"
   ]
  },
  {
   "cell_type": "code",
   "execution_count": null,
   "metadata": {
    "ExecuteTime": {
     "end_time": "2019-10-10T16:02:33.234985Z",
     "start_time": "2019-10-10T16:02:33.231780Z"
    }
   },
   "outputs": [],
   "source": [
    "from pyiron.atomistics.structure.atoms import Atoms"
   ]
  },
  {
   "cell_type": "code",
   "execution_count": null,
   "metadata": {
    "ExecuteTime": {
     "end_time": "2019-10-10T16:02:33.244508Z",
     "start_time": "2019-10-10T16:02:33.236546Z"
    }
   },
   "outputs": [],
   "source": [
    "from pyiron.lammps.potential import LammpsPotentialFile"
   ]
  },
  {
   "cell_type": "code",
   "execution_count": null,
   "metadata": {
    "ExecuteTime": {
     "end_time": "2019-10-10T16:02:33.253594Z",
     "start_time": "2019-10-10T16:02:33.246038Z"
    }
   },
   "outputs": [],
   "source": [
    "from mendeleev import get_table"
   ]
  },
  {
   "cell_type": "code",
   "execution_count": null,
   "metadata": {
    "ExecuteTime": {
     "end_time": "2019-10-10T16:02:33.261867Z",
     "start_time": "2019-10-10T16:02:33.254840Z"
    }
   },
   "outputs": [],
   "source": [
    "from ase.data import reference_states, atomic_numbers"
   ]
  },
  {
   "cell_type": "code",
   "execution_count": null,
   "metadata": {
    "ExecuteTime": {
     "end_time": "2019-10-10T16:02:33.316491Z",
     "start_time": "2019-10-10T16:02:33.264210Z"
    }
   },
   "outputs": [],
   "source": [
    "ptable = get_table('elements')"
   ]
  },
  {
   "cell_type": "code",
   "execution_count": null,
   "metadata": {
    "ExecuteTime": {
     "end_time": "2019-10-10T16:02:33.320510Z",
     "start_time": "2019-10-10T16:02:33.318182Z"
    }
   },
   "outputs": [],
   "source": [
    "element_lst = ptable.symbol.values.tolist()"
   ]
  },
  {
   "cell_type": "code",
   "execution_count": null,
   "metadata": {
    "ExecuteTime": {
     "end_time": "2019-10-10T16:02:33.354754Z",
     "start_time": "2019-10-10T16:02:33.321824Z"
    }
   },
   "outputs": [],
   "source": [
    "potential_selector = LammpsPotentialFile()"
   ]
  },
  {
   "cell_type": "code",
   "execution_count": null,
   "metadata": {
    "ExecuteTime": {
     "end_time": "2019-10-10T16:02:33.602155Z",
     "start_time": "2019-10-10T16:02:33.356032Z"
    }
   },
   "outputs": [],
   "source": [
    "element_potential_dict = {}\n",
    "for el in element_lst:\n",
    "    df_pot = potential_selector.find(el)\n",
    "    element_potential_dict[el] = np.unique(df_pot[df_pot['Model'] == 'NISTiprpy']['Name'].values).tolist()"
   ]
  },
  {
   "cell_type": "code",
   "execution_count": null,
   "metadata": {
    "ExecuteTime": {
     "end_time": "2019-10-10T16:02:33.607253Z",
     "start_time": "2019-10-10T16:02:33.603664Z"
    }
   },
   "outputs": [],
   "source": [
    "not_working_potential_lst = [\n",
    "    '2015--Islam-M-M--Li-S--LAMMPS--ipr1',\n",
    "    '2011--Zhou-X-W--Li-Na-K-Rb-Cs-F-Cl-Br-I--LAMMPS--ipr1',\n",
    "    '2015--Choudhary-K--Al--LAMMPS--ipr1',\n",
    "    '2015--Kumar-A--Al-Ni--LAMMPS--ipr1',\n",
    "    '2015--Kumar-A--Al-Ni-O--LAMMPS--ipr1',\n",
    "    '2016--Zhou-X-W--Al-Cu--LAMMPS--ipr1',\n",
    "    '2018--Zhou-X-W--Al-Cu-H--LAMMPS--ipr1',\n",
    "    '2016--Zhang-P--Ti-O--LAMMPS--ipr1',\n",
    "    '2016--Zhang-P--Ti-O--LAMMPS--ipr2',\n",
    "    '2003--Mendelev-M-I--Fe-2--LAMMPS--ipr2',\n",
    "    '2015--Zhou-X-W--C-Cu--LAMMPS--ipr1',\n",
    "    '2015--Zhou-X-W--Cu-H--LAMMPS--ipr1',\n",
    "    '2012--Ward-D-K--Cd-Te-Zn--LAMMPS--ipr1',\n",
    "    '2013--Ward-D-K--Cd-Te-Zn--LAMMPS--ipr1',\n",
    "    '2014--Zhou-X-W--Cd-Te-Se--LAMMPS--ipr1',\n",
    "    '2012--Ward-D-K--Cd-Te--LAMMPS--ipr1',\n",
    "    '2015--Broqvist-P--Ce-O--LAMMPS--ipr1',\n",
    "    '2015--Thompson-A-P--Ta--LAMMPS--ipr1',\n",
    "    # Test\n",
    "    '2018--Dickel-D-E--Mg-Al-Zn--LAMMPS--ipr1',\n",
    "    '2015--Pascuet-M-I--Al-U--LAMMPS--ipr1',\n",
    "    '2009--Kim-H-K--Fe-Ti-C--LAMMPS--ipr1',\n",
    "    '2015--Ko-W-S--Ni-Ti--LAMMPS--ipr2',\n",
    "    '2013--Bonny-G--Fe-Cr-W--LAMMPS--ipr1',\n",
    "    '2013--Bonny-G--Fe-Cr-W-LAMMPS--ipr1',\n",
    "    '2014--Liyanage-L-S-I--Fe-C--LAMMPS--ipr1',\n",
    "    '1985--Foiles-S-M--Ni-Cu--LAMMPS--ipr1',\n",
    "    '1986--Foiles-S-M--Ag-Au-Cu-Ni-Pd-Pt--LAMMPS--ipr1',\n",
    "    '1989--Adams-J-B--Ag-Au-Cu-Ni-Pd-Pt--LAMMPS--ipr1',\n",
    "    '2015--Asadi-E--Ni--LAMMPS--ipr1',\n",
    "]"
   ]
  },
  {
   "cell_type": "code",
   "execution_count": null,
   "metadata": {
    "ExecuteTime": {
     "end_time": "2019-10-10T16:02:33.632034Z",
     "start_time": "2019-10-10T16:02:33.608766Z"
    }
   },
   "outputs": [],
   "source": [
    "element_potential_dict"
   ]
  },
  {
   "cell_type": "code",
   "execution_count": null,
   "metadata": {
    "ExecuteTime": {
     "end_time": "2019-10-10T16:02:33.650822Z",
     "start_time": "2019-10-10T16:02:33.633422Z"
    }
   },
   "outputs": [],
   "source": [
    "pot_lst = []\n",
    "for k, v in element_potential_dict.items():\n",
    "    for p in v:\n",
    "        pot_lst.append(p)"
   ]
  },
  {
   "cell_type": "code",
   "execution_count": null,
   "metadata": {
    "ExecuteTime": {
     "end_time": "2019-10-10T16:02:33.660368Z",
     "start_time": "2019-10-10T16:02:33.652260Z"
    }
   },
   "outputs": [],
   "source": [
    "len(pot_lst), len(np.unique(pot_lst)), len(not_working_potential_lst)"
   ]
  },
  {
   "cell_type": "code",
   "execution_count": null,
   "metadata": {
    "ExecuteTime": {
     "end_time": "2019-10-10T16:02:34.533513Z",
     "start_time": "2019-10-10T16:02:33.661805Z"
    }
   },
   "outputs": [],
   "source": [
    "pr = Project('cohesive')"
   ]
  },
  {
   "cell_type": "code",
   "execution_count": null,
   "metadata": {
    "ExecuteTime": {
     "end_time": "2019-10-10T16:02:36.188728Z",
     "start_time": "2019-10-10T16:02:34.534871Z"
    }
   },
   "outputs": [],
   "source": [
    "pr.remove_jobs(recursive=True)"
   ]
  },
  {
   "cell_type": "code",
   "execution_count": null,
   "metadata": {
    "ExecuteTime": {
     "end_time": "2019-10-10T16:02:36.193416Z",
     "start_time": "2019-10-10T16:02:36.190254Z"
    }
   },
   "outputs": [],
   "source": [
    "def setup_interactive_job(pr, job_name):\n",
    "    job = pr.create_job(pr.job_type.Lammps, job_name)\n",
    "    job.server.run_mode.interactive = True\n",
    "    job.interactive_enforce_structure_reset = True\n",
    "    return job"
   ]
  },
  {
   "cell_type": "code",
   "execution_count": null,
   "metadata": {
    "ExecuteTime": {
     "end_time": "2019-10-10T16:02:36.209874Z",
     "start_time": "2019-10-10T16:02:36.194881Z"
    }
   },
   "outputs": [],
   "source": [
    "def calc_bulk(potential, element, pr, size=5, job_bulk=None):\n",
    "    if job_bulk is None:\n",
    "        close_job = True\n",
    "        job_bulk = setup_interactive_job(pr=pr, job_name='lmp_bulk') \n",
    "        job_bulk.calc_minimize(pressure=0.0)\n",
    "    else: \n",
    "        close_job = False\n",
    "    structure_bulk = pr.create_ase_bulk(element, cubic=True)\n",
    "    structure_bulk.set_repeat([size, size, size])\n",
    "    job_bulk.structure = structure_bulk.copy()\n",
    "    job_bulk.potential = potential\n",
    "    job_bulk.run()\n",
    "    energy_lst = job_bulk.output.energy_tot[-1] / len(structure_bulk)\n",
    "    volume_lst = job_bulk.output.volume[-1] / len(structure_bulk)\n",
    "    if close_job:\n",
    "        job_bulk.interactive_close()\n",
    "    return energy_lst, volume_lst"
   ]
  },
  {
   "cell_type": "code",
   "execution_count": null,
   "metadata": {
    "ExecuteTime": {
     "end_time": "2019-10-10T16:02:36.220522Z",
     "start_time": "2019-10-10T16:02:36.211256Z"
    }
   },
   "outputs": [],
   "source": [
    "def calc_vac(potential, element, pr, job_vac=None, size=50.):\n",
    "    if job_vac is None:\n",
    "        close_job = True\n",
    "        job_vac = setup_interactive_job(pr=pr, job_name='lmp_vac') \n",
    "    else: \n",
    "        close_job = False\n",
    "    structure_vac = Atoms(element, positions=[[0., 0., 0.]], cell=[[size, 0., 0.], [0., size, 0.], [0., 0., size]])\n",
    "    job_vac.structure = structure_vac.copy()\n",
    "    job_vac.potential = potential\n",
    "    job_vac.run()\n",
    "    energy_lst = job_vac.output.energy_tot.tolist()[-1]\n",
    "    if close_job:\n",
    "        job_vac.interactive_close()\n",
    "    return energy_lst"
   ]
  },
  {
   "cell_type": "code",
   "execution_count": null,
   "metadata": {
    "ExecuteTime": {
     "end_time": "2019-10-10T16:02:36.279282Z",
     "start_time": "2019-10-10T16:02:36.221825Z"
    }
   },
   "outputs": [],
   "source": [
    "job_vac = setup_interactive_job(pr=pr, job_name='lmp_vac') "
   ]
  },
  {
   "cell_type": "code",
   "execution_count": null,
   "metadata": {
    "ExecuteTime": {
     "end_time": "2019-10-10T16:02:36.422600Z",
     "start_time": "2019-10-10T16:02:36.312011Z"
    }
   },
   "outputs": [],
   "source": [
    "job_bulk = setup_interactive_job(pr=pr, job_name='lmp_bulk') \n",
    "job_bulk.calc_minimize(pressure=0.0)"
   ]
  },
  {
   "cell_type": "code",
   "execution_count": null,
   "metadata": {},
   "outputs": [],
   "source": [
    "element_lst = []\n",
    "potential_lst = []\n",
    "crystal_structure_lst = []\n",
    "for k, v in element_potential_dict.items(): \n",
    "    ref = reference_states[atomic_numbers[k]]\n",
    "    if ref is not None and ref['symmetry'] in ['bcc', 'hcp', 'fcc'] and len(v) != 0:\n",
    "        for p in v:\n",
    "            if p not in not_working_potential_lst:\n",
    "                element_lst.append(k)\n",
    "                potential_lst.append(p)\n",
    "                crystal_structure_lst.append(ref['symmetry'])"
   ]
  },
  {
   "cell_type": "code",
   "execution_count": null,
   "metadata": {},
   "outputs": [],
   "source": [
    "vac_energy_lst = [\n",
    "    calc_vac(\n",
    "        potential=p, \n",
    "        element=e, \n",
    "        pr=pr, \n",
    "        job_vac=job_vac\n",
    "    )\n",
    "    for e, p, struct in zip(\n",
    "        element_lst, \n",
    "        potential_lst, \n",
    "        crystal_structure_lst\n",
    "    )\n",
    "]"
   ]
  },
  {
   "cell_type": "code",
   "execution_count": null,
   "metadata": {},
   "outputs": [],
   "source": [
    "bulk_lst = [\n",
    "    calc_bulk(\n",
    "            potential=p, \n",
    "            element=e, \n",
    "            pr=pr, \n",
    "            size=5,\n",
    "            job_bulk=job_bulk,\n",
    "        )\n",
    "    for e, p, struct in zip(\n",
    "        element_lst, \n",
    "        potential_lst, \n",
    "        crystal_structure_lst\n",
    "    )\n",
    "]"
   ]
  },
  {
   "cell_type": "code",
   "execution_count": null,
   "metadata": {},
   "outputs": [],
   "source": [
    "bulk_energy_lst, volume_lst = zip(*bulk_lst)"
   ]
  },
  {
   "cell_type": "code",
   "execution_count": null,
   "metadata": {
    "ExecuteTime": {
     "end_time": "2019-10-10T16:13:40.998416Z",
     "start_time": "2019-10-10T16:13:38.131231Z"
    }
   },
   "outputs": [],
   "source": [
    "job_bulk.interactive_close()\n",
    "job_vac.interactive_close()"
   ]
  },
  {
   "cell_type": "code",
   "execution_count": null,
   "metadata": {
    "ExecuteTime": {
     "end_time": "2019-10-10T16:13:41.014763Z",
     "start_time": "2019-10-10T16:13:40.999855Z"
    }
   },
   "outputs": [],
   "source": [
    "df = pandas.DataFrame({'element': element_lst, 'crystal_structure': crystal_structure_lst, 'potential': potential_lst, 'bulk': bulk_energy_lst, 'vac': vac_energy_lst, 'volume': volume_lst})\n",
    "df"
   ]
  },
  {
   "cell_type": "code",
   "execution_count": null,
   "metadata": {},
   "outputs": [],
   "source": [
    "df.to_csv('cohesive_energy.csv')"
   ]
  },
  {
   "cell_type": "code",
   "execution_count": null,
   "metadata": {},
   "outputs": [],
   "source": [
    "df.to_html('cohesive_energy.html')"
   ]
  },
  {
   "cell_type": "code",
   "execution_count": null,
   "metadata": {},
   "outputs": [],
   "source": []
  }
 ],
 "metadata": {
  "kernelspec": {
   "display_name": "Python 3",
   "language": "python",
   "name": "python3"
  },
  "language_info": {
   "codemirror_mode": {
    "name": "ipython",
    "version": 3
   },
   "file_extension": ".py",
   "mimetype": "text/x-python",
   "name": "python",
   "nbconvert_exporter": "python",
   "pygments_lexer": "ipython3",
   "version": "3.7.3"
  },
  "toc": {
   "base_numbering": 1,
   "nav_menu": {},
   "number_sections": true,
   "sideBar": true,
   "skip_h1_title": false,
   "title_cell": "Table of Contents",
   "title_sidebar": "Contents",
   "toc_cell": false,
   "toc_position": {},
   "toc_section_display": true,
   "toc_window_display": false
  }
 },
 "nbformat": 4,
 "nbformat_minor": 4
}
